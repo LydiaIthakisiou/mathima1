{
  "nbformat": 4,
  "nbformat_minor": 0,
  "metadata": {
    "colab": {
      "provenance": []
    },
    "kernelspec": {
      "name": "python3",
      "display_name": "Python 3"
    },
    "language_info": {
      "name": "python"
    }
  },
  "cells": [
    {
      "cell_type": "markdown",
      "source": [
        "#Ασκήσεις του μαθήματος \"Εισαγωγή στην Python 1 - Variables, data types (integers, floats, stings, boolean, lists, dictionaries), mathematical & comparison operators, functions & methods"
      ],
      "metadata": {
        "id": "eZ6s1jOQBAty"
      }
    },
    {
      "cell_type": "markdown",
      "source": [
        "\n",
        "\n",
        "---\n",
        "\n",
        "\n",
        "####**Άσκηση 2** (Προαιρετικά)\n",
        "\n",
        "**Try yourself**: Φτιάξτε ένα νέο κελί κώδικα (Code cell) ακριβώς κάτω από αυτό και δημιουργήστε μεταβλητές με τα στοιχεία σας:\n",
        "\n",
        "*   το μικρό σας όνομα\n",
        "*   το επίθετό σας\n",
        "*   το email σας\n",
        "*   το εξάμηνό σας\n",
        "*   τυπώστε όλα μαζί τα παραπάνω στην οθόνη"
      ],
      "metadata": {
        "id": "wiiXoX3tfVML"
      }
    },
    {
      "cell_type": "code",
      "source": [
        "onoma = \"Lydia\"\n",
        "epitheto = \"ithakisiou\"\n",
        "email =  \"lydi.ithakisiou@gmail.com\"\n",
        "eksamino = \"ebdomo\"\n",
        "print ( onoma, epitheto, email, eksamino)"
      ],
      "metadata": {
        "colab": {
          "base_uri": "https://localhost:8080/"
        },
        "id": "SkZHBqcXyw6C",
        "outputId": "328ab675-ea1f-47c1-b853-83bdd39694f4"
      },
      "execution_count": 1,
      "outputs": [
        {
          "output_type": "stream",
          "name": "stdout",
          "text": [
            "Lydia ithakisiou lydi.ithakisiou@gmail.com ebdomo\n"
          ]
        }
      ]
    },
    {
      "cell_type": "markdown",
      "source": [
        "\n",
        "\n",
        "---\n",
        "\n",
        "####**Άσκηση 3**\n",
        "\n",
        "**Try yourself**: Φτιάξτε ένα νέο κελί κώδικα (Code cell) ακριβώς κάτω από αυτό και κάνετε τα παρακάτω:\n",
        "\n",
        "* δημιουργήστε 3 μεταβλητές, όπου η καθεμιά θα έχει τη θερμοκρασία του αέρα όπως την καταγράψαμε το πρωί, το μεσημέρι και το βράδυ\n",
        "* βρείτε το μέσο όρο των θερμοκρασιών\n",
        "* βρείτε τη μέγιστη διαφορά των θερμοκρασιών\n",
        "* δημιουργήστε μια νέα μεταβλητή που θα περιέχει την τιμή της μέσης θερμοκρασίας σε ακέραιο\n",
        "* ελέγξτε τα αποτελέσματα τυπώνοντάς τα στην οθόνη\n"
      ],
      "metadata": {
        "id": "yrhDlp7r8Jsi"
      }
    },
    {
      "cell_type": "code",
      "source": [
        "prwi = 20\n",
        "brady = 15\n",
        "print ( \"To prwi h thermokrasia htan : \" , prwi) \n",
        "print ( \"To brady h thermokrasia htan : \" , brady) \n"
      ],
      "metadata": {
        "colab": {
          "base_uri": "https://localhost:8080/"
        },
        "id": "MnVuZnoo0YVg",
        "outputId": "b248c10c-f6d6-41f1-88ef-668e4412e951"
      },
      "execution_count": 3,
      "outputs": [
        {
          "output_type": "stream",
          "name": "stdout",
          "text": [
            "To prwi h thermokrasia htan :  20\n",
            "To brady h thermokrasia htan :  15\n"
          ]
        }
      ]
    },
    {
      "cell_type": "code",
      "source": [
        "MO = prwi + brady / 2\n",
        "print (MO)"
      ],
      "metadata": {
        "colab": {
          "base_uri": "https://localhost:8080/"
        },
        "id": "bqhQMOmr1Wb2",
        "outputId": "5b95fd09-f7be-44c8-fb28-d76edbf84f16"
      },
      "execution_count": 5,
      "outputs": [
        {
          "output_type": "stream",
          "name": "stdout",
          "text": [
            "27.5\n"
          ]
        }
      ]
    },
    {
      "cell_type": "code",
      "source": [
        "megisti_diafora = prwi - brady\n",
        "print (megisti_diafora)"
      ],
      "metadata": {
        "colab": {
          "base_uri": "https://localhost:8080/"
        },
        "id": "ISEF3IiW1noN",
        "outputId": "0447593b-3853-4938-c521-4675b53c3c64"
      },
      "execution_count": 6,
      "outputs": [
        {
          "output_type": "stream",
          "name": "stdout",
          "text": [
            "5\n"
          ]
        }
      ]
    },
    {
      "cell_type": "code",
      "source": [
        "akeraios = print(int(MO))"
      ],
      "metadata": {
        "colab": {
          "base_uri": "https://localhost:8080/"
        },
        "id": "f0BVb1AS2Bhz",
        "outputId": "412d04d6-3a0e-4d01-8d11-8bf42db26041"
      },
      "execution_count": 7,
      "outputs": [
        {
          "output_type": "stream",
          "name": "stdout",
          "text": [
            "27\n"
          ]
        }
      ]
    },
    {
      "cell_type": "markdown",
      "source": [
        "\n",
        "\n",
        "---\n",
        "\n",
        "####**Άσκηση 4**\n",
        "\n",
        "**Try yourself**: Φτιάξτε ένα νέο κελί κώδικα (Code cell) ακριβώς κάτω από αυτό και κάνετε τα παρακάτω:\n",
        "\n",
        "* δημιουργήστε μια μεταβλητή με την πόλη που μένετε και μία με το αγαπημένο σας ταξιδιωτικό προορισμό\n",
        "* ελέγξτε την ομοιότητα του τύπου των μεταβλητών\n",
        "* ελέγξτε την ισότητα των μεταβλητών\n",
        "* ελέγξτε αν η μεταβλητή της πόλης είναι μικρότερη της μεταβλητής του ταξιδιωτικού προορισμού\n",
        "\n",
        "Τι νομίζετε ότι σημαίνει ότι ένα string είναι μεγαλύτερο, μικρότερο ή ίσο με ένα άλλο; (Γράψτε την απάντησή σας σε ένα νέο text cell ή σε ένα code cell σαν σχόλιο)\n"
      ],
      "metadata": {
        "id": "pg9-mk1eTq2l"
      }
    },
    {
      "cell_type": "code",
      "source": [
        "polh = \"athina\"\n",
        "proorismos = \"andros\"\n",
        "type(polh) == type(proorismos)\n"
      ],
      "metadata": {
        "colab": {
          "base_uri": "https://localhost:8080/"
        },
        "id": "D9CY-J2N50lE",
        "outputId": "fc12cf28-dbfb-47ab-f882-69d5d957a80f"
      },
      "execution_count": 14,
      "outputs": [
        {
          "output_type": "execute_result",
          "data": {
            "text/plain": [
              "True"
            ]
          },
          "metadata": {},
          "execution_count": 14
        }
      ]
    },
    {
      "cell_type": "code",
      "source": [
        "print(\"polh is equal to proorismos :\", polh == proorismos)\n"
      ],
      "metadata": {
        "colab": {
          "base_uri": "https://localhost:8080/"
        },
        "id": "RqwKsq5K6qdq",
        "outputId": "79ec021b-9990-4717-d3d6-9a93f42bb608"
      },
      "execution_count": 10,
      "outputs": [
        {
          "output_type": "stream",
          "name": "stdout",
          "text": [
            "polh is equal to proorismos : False\n"
          ]
        }
      ]
    },
    {
      "cell_type": "code",
      "source": [
        "print(\"polh is less than proorismos : \", polh < proorismos)"
      ],
      "metadata": {
        "colab": {
          "base_uri": "https://localhost:8080/"
        },
        "id": "Z683Uz7q7K23",
        "outputId": "8e1f36cf-e507-4b94-d087-2f31bf7c806d"
      },
      "execution_count": 15,
      "outputs": [
        {
          "output_type": "stream",
          "name": "stdout",
          "text": [
            "polh is less than proorismos :  False\n"
          ]
        }
      ]
    },
    {
      "cell_type": "markdown",
      "source": [
        "Σημαίνει ότι σημασία έχει το πρώτο γράμμα που έχει κάθε λέξη."
      ],
      "metadata": {
        "id": "59cR2hzn84G0"
      }
    },
    {
      "cell_type": "markdown",
      "source": [
        "\n",
        "\n",
        "---\n",
        "\n",
        "####**Άσκηση 5**\n",
        "\n",
        "**Try yourself**: Φτιάξτε ένα νέο κελί κώδικα (Code cell) ακριβώς κάτω από αυτό και κάνετε τα παρακάτω:\n",
        "\n",
        "* δημιουργήστε μια μεταβλητή με τιμή την datetime ημερομηνία δημοσίευσης ενός άρθρου: 2023-03-24T12:07:19+02:00\n",
        "* απομονώστε την ημερομηνία και αποθηκεύστε τη σε μια μεταβλητή με κατάλληλο όνομα\n",
        "* τυπώστε την ημερομηνία\n",
        "* φτιάξτε ένα νέο code cell\n",
        "* αποθηκεύστε σε διαφορετικές μεταβλητές το έτος, το μήνα και την ημέρα (**tip**: κάντε το ένα ένα και τυπώνετε για να βλέπετε αν το κάνετε σωστά)\n",
        "* φτιάξτε ένα νέο code cell\n",
        "* απομονώστε την ώρα (το 12:07:19) και αποθηκεύστε τη σε μια νέα μεταβλητή \n",
        "* φτιάξτε ένα νέο code cell\n",
        "* χρησιμοποιώντας τις μεταβλητές που φτιάξατε, δημιουργήστε μια νέα μεταβλητή με όνομα custom_daytime που θα περιέχει: <ημέρα>/<μήνας>/<έτος>, ώρα: <ώρα>\n",
        "* και τυπώστε τη στην οθόνη"
      ],
      "metadata": {
        "id": "jIk9BoTu-f05"
      }
    },
    {
      "cell_type": "code",
      "source": [],
      "metadata": {
        "id": "LLm3qgU9_M9e"
      },
      "execution_count": null,
      "outputs": []
    },
    {
      "cell_type": "code",
      "source": [
        "arthro = \"2023-03-24T12:07:19+02:00 \"\n",
        "hmeromhnia = arthro [:10]\n",
        "print (hmeromhnia)"
      ],
      "metadata": {
        "colab": {
          "base_uri": "https://localhost:8080/"
        },
        "id": "o2hueLIW_TFE",
        "outputId": "91e91242-ea4f-4cdb-cb82-5cdb809de295"
      },
      "execution_count": 26,
      "outputs": [
        {
          "output_type": "stream",
          "name": "stdout",
          "text": [
            "2023-03-24\n"
          ]
        }
      ]
    },
    {
      "cell_type": "code",
      "source": [
        "etos = arthro [:4]\n",
        "print (etos)\n",
        "mhnas = arthro [5:7]\n",
        "print (mhnas)\n",
        "hmera= arthro [8:10]\n",
        "print (hmera)"
      ],
      "metadata": {
        "colab": {
          "base_uri": "https://localhost:8080/"
        },
        "id": "zjJPEcv5ATyl",
        "outputId": "4dc78547-10a9-47b9-9d5a-3e6292765924"
      },
      "execution_count": 31,
      "outputs": [
        {
          "output_type": "stream",
          "name": "stdout",
          "text": [
            "2023\n",
            "03\n",
            "24\n"
          ]
        }
      ]
    },
    {
      "cell_type": "code",
      "source": [
        "wra = arthro [11:19]\n",
        "print (wra)"
      ],
      "metadata": {
        "colab": {
          "base_uri": "https://localhost:8080/"
        },
        "id": "zX98As4SG6f-",
        "outputId": "438133bf-3377-4615-dc55-6251e0db5b4b"
      },
      "execution_count": 33,
      "outputs": [
        {
          "output_type": "stream",
          "name": "stdout",
          "text": [
            "12:07:19\n"
          ]
        }
      ]
    },
    {
      "cell_type": "code",
      "source": [
        "custom_daytime = hmera, mhnas, etos, wra \n",
        "print(custom_daytime)\n"
      ],
      "metadata": {
        "colab": {
          "base_uri": "https://localhost:8080/"
        },
        "id": "zlbTfadoHJ-O",
        "outputId": "69364199-99f3-43a2-9f76-8e01050e7a61"
      },
      "execution_count": 50,
      "outputs": [
        {
          "output_type": "stream",
          "name": "stdout",
          "text": [
            "('24', '03', '2023', '12:07:19')\n"
          ]
        }
      ]
    },
    {
      "cell_type": "code",
      "source": [],
      "metadata": {
        "id": "AeC88biYAopm"
      },
      "execution_count": null,
      "outputs": []
    },
    {
      "cell_type": "markdown",
      "source": [
        "\n",
        "\n",
        "---\n",
        "\n",
        "####**Άσκηση 6**\n",
        "\n",
        "**Try yourself**: Φτιάξτε ένα νέο κελί κώδικα (Code cell) ακριβώς κάτω από αυτό και κάνετε τα παρακάτω:\n",
        "\n",
        "1. Δημιουργήστε μια κενή λίστα με όνομα usersL\n",
        "2. Φτιάξτε μια μεταβλητή με όνομα email1 και τιμή ένα email\n",
        "3. Βρείτε το index του \"@\" (με function) και αποθηκεύστε το σε μια μεταβλητή με όνομα at1\n",
        "4. Πάρτε (slice) το τμήμα του mail που έχει μόνο το όνομα, αποθηκεύστε το σε μια μεταβλητή με όνομα user1 και βάλτε το στη λίστα usersL\n",
        "5. Επαναλάβετε τα βήματα 2-4 άλλη 1 φορά (κάντε copy-paste και αλλάξτε ό,τι χρειάεται)\n",
        "6. Ταξινομήστε τα περιεχόμενα της λίστας με αύξουσα σειρά και\n",
        "7. Τυπώστε τα περιεχόμενά της στην οθόνη\n",
        "\n",
        "**Tip**: χρησιμοποιήστε όσα κελιά θέλετε έτσι ώστε να ελέγχετε τι κάνετε σε κάθε βήμα"
      ],
      "metadata": {
        "id": "_agWj9vpdYL9"
      }
    },
    {
      "cell_type": "code",
      "source": [
        "usersL = []\n",
        "email1 = \"lydi.ithakisiou@gmail.com\"\n",
        "at1 = email1.index (\"@\")\n",
        "print (at1)\n"
      ],
      "metadata": {
        "colab": {
          "base_uri": "https://localhost:8080/"
        },
        "id": "SehB6-iULKSD",
        "outputId": "12d2ee30-c0be-43dc-d16c-81c4d474c428"
      },
      "execution_count": 55,
      "outputs": [
        {
          "output_type": "stream",
          "name": "stdout",
          "text": [
            "15\n"
          ]
        }
      ]
    },
    {
      "cell_type": "code",
      "source": [
        "email1[:15]\n",
        "user1 = email1[:15]\n",
        "usersL= [user1]\n",
        "print (usersL)"
      ],
      "metadata": {
        "colab": {
          "base_uri": "https://localhost:8080/"
        },
        "id": "RW6WOrViMNJW",
        "outputId": "0f742582-4eba-462d-8630-f0147543fdf5"
      },
      "execution_count": 70,
      "outputs": [
        {
          "output_type": "stream",
          "name": "stdout",
          "text": [
            "['lydi.ithakisiou']\n"
          ]
        }
      ]
    },
    {
      "cell_type": "code",
      "source": [
        "\n",
        "email2 = \"johnpap@gmail.com\"\n",
        "at2 = email1.index (\"@\")\n",
        "print (at1)"
      ],
      "metadata": {
        "colab": {
          "base_uri": "https://localhost:8080/"
        },
        "id": "OrnDndGIOGcK",
        "outputId": "1a740767-028b-4b69-92a8-c2692ea47e62"
      },
      "execution_count": 87,
      "outputs": [
        {
          "output_type": "stream",
          "name": "stdout",
          "text": [
            "7\n"
          ]
        }
      ]
    },
    {
      "cell_type": "code",
      "source": [
        "email2[:7]\n",
        "user2 = email2[:7]\n",
        "usersL= [user2]\n",
        "print (usersL)"
      ],
      "metadata": {
        "colab": {
          "base_uri": "https://localhost:8080/"
        },
        "id": "tZKSdELHONu1",
        "outputId": "c8a7c694-97ab-4617-922a-14e40de3dbf3"
      },
      "execution_count": 88,
      "outputs": [
        {
          "output_type": "stream",
          "name": "stdout",
          "text": [
            "['johnpap']\n"
          ]
        }
      ]
    },
    {
      "cell_type": "code",
      "source": [
        "usersL.append(\"lydi.ithakisiou\")\n",
        "usersL"
      ],
      "metadata": {
        "colab": {
          "base_uri": "https://localhost:8080/"
        },
        "id": "Es5xUxAVOXcU",
        "outputId": "f4fb6d3d-8874-4ca0-8ba3-94b71479406b"
      },
      "execution_count": 89,
      "outputs": [
        {
          "output_type": "execute_result",
          "data": {
            "text/plain": [
              "['johnpap', 'lydi.ithakisiou']"
            ]
          },
          "metadata": {},
          "execution_count": 89
        }
      ]
    },
    {
      "cell_type": "code",
      "source": [
        "usersL.sort()\n",
        "usersL"
      ],
      "metadata": {
        "colab": {
          "base_uri": "https://localhost:8080/"
        },
        "id": "_NC0k5okRT7P",
        "outputId": "480ac154-5ecb-471c-d7b3-db45c1733ba4"
      },
      "execution_count": 90,
      "outputs": [
        {
          "output_type": "execute_result",
          "data": {
            "text/plain": [
              "['johnpap', 'lydi.ithakisiou']"
            ]
          },
          "metadata": {},
          "execution_count": 90
        }
      ]
    },
    {
      "cell_type": "markdown",
      "source": [
        "\n",
        "\n",
        "---\n",
        "\n",
        "####**Άσκηση 7**\n",
        "\n",
        "**Try yourself**: Σ' αυτή την άσκηση θα φτιάξουμε μια λίστα στην οποία θα αποθηκεύουμε δίάφορα δεδομένα από άρθρα που δημοσιεύονται σε sites.\n",
        "\n",
        "Φτιάξτε ένα νέο κελί κώδικα (Code cell) ακριβώς κάτω από αυτό και κάνετε τα παρακάτω:\n",
        "\n",
        "1. Δημιουργήστε μια κενή λίστα όπου θα αποθηκεύετε τα δεδομένα των άρθρων\n",
        "2. Δημιουργήστε ένα λεξικό με τα στοιχεία του πρώτου άρθρου που θα συλλέξετε από ένα site: \"Τίτλος\", \"Ημερομηνία\", \"Κατηγορία\", \"url\"\n",
        "3. Επαναλάβετε το 2 για ακόμα ένα άρθρο\n",
        "4. Προσθέστε τα λεξικά στη λίστα.\n",
        "5. Τυπώστε στην οθόνη τον τίτλο του 2ου άρθρου\n",
        "6. Προσθέστε και στα 2 άρθρα μια εγγραφή με το όνομα του αντίστοιχου site που πήρατε το άρθρο\n",
        "7. Τυπώστε στην οθόνη το πλήθος των λεξικών που έχει η λίστα.\n",
        "\n",
        "**Tip**:Δουλέψτε τμηματικά και ελέγχετε σε κάθε βήμα αυτό που κάνετε."
      ],
      "metadata": {
        "id": "KpVX9pHLNgB6"
      }
    },
    {
      "cell_type": "code",
      "source": [
        "dedomena = []\n",
        "dict1 = {\"titlos\" : \"Εκλογές 2023: Τι απαντά ο Μιθριδάτης στις κατηγορίες της ΝΔ για σεξισμό \" ,\n",
        "         \"hmerominia\" : \"02.04.2023\" ,\n",
        "         \"katigoria\" : \"Πολιτική\" , \n",
        "         \"url\" : \"https://www.tovima.gr/2023/04/02/politics/ekloges-2023-ti-apanta-o-mithridatis-stis-katigories-tis-nd-gia-seksismo/ \"\n",
        "         }\n",
        "dict2 = {\"titlos\" : \"Τέμπη: Προφυλακιστέος ο επιθεωρητής μετά την μαραθώνια απολογία του\" ,\n",
        "         \"hmerominia\" : \"31.03.2023\" ,\n",
        "         \"katigoria\" : \"Ελλάδα\" , \n",
        "         \"url\" : \"https://www.in.gr/2023/03/31/greece/tempi-profylakisteos-o-epitheoritis-meta-tin-marathonia-tin-apologia-tou/ \"\n",
        "         }         \n",
        "dedomena = (dict1) , (dict2) \n",
        "print(dedomena)\n",
        "print(dict2[\"titlos\"])        "
      ],
      "metadata": {
        "colab": {
          "base_uri": "https://localhost:8080/"
        },
        "id": "cjtRKqGnTMjl",
        "outputId": "2b314f2a-96e1-41e3-8ad1-d1119a52f7bc"
      },
      "execution_count": 95,
      "outputs": [
        {
          "output_type": "stream",
          "name": "stdout",
          "text": [
            "({'titlos': 'Εκλογές 2023: Τι απαντά ο Μιθριδάτης στις κατηγορίες της ΝΔ για σεξισμό ', 'hmerominia': '02.04.2023', 'katigoria': 'Πολιτική', 'url': 'https://www.tovima.gr/2023/04/02/politics/ekloges-2023-ti-apanta-o-mithridatis-stis-katigories-tis-nd-gia-seksismo/ '}, {'titlos': 'Τέμπη: Προφυλακιστέος ο επιθεωρητής μετά την μαραθώνια απολογία του', 'hmerominia': '31.03.2023', 'katigoria': 'Ελλάδα', 'url': 'https://www.in.gr/2023/03/31/greece/tempi-profylakisteos-o-epitheoritis-meta-tin-marathonia-tin-apologia-tou/ '})\n",
            "Τέμπη: Προφυλακιστέος ο επιθεωρητής μετά την μαραθώνια απολογία του\n"
          ]
        }
      ]
    },
    {
      "cell_type": "code",
      "source": [
        "dict1[\"site\"] = \"tovima.gr\"\n",
        "dict1"
      ],
      "metadata": {
        "colab": {
          "base_uri": "https://localhost:8080/"
        },
        "id": "LIDm_XVZWOS3",
        "outputId": "f7ddce87-8dec-4bb5-81af-8e09b0e56f7d"
      },
      "execution_count": 92,
      "outputs": [
        {
          "output_type": "execute_result",
          "data": {
            "text/plain": [
              "{'titlos': 'Εκλογές 2023: Τι απαντά ο Μιθριδάτης στις κατηγορίες της ΝΔ για σεξισμό ',\n",
              " 'hmerominia': '02.04.2023',\n",
              " 'katigoria': 'Πολιτική',\n",
              " 'url': 'https://www.tovima.gr/2023/04/02/politics/ekloges-2023-ti-apanta-o-mithridatis-stis-katigories-tis-nd-gia-seksismo/ ',\n",
              " 'site': 'tovima.gr'}"
            ]
          },
          "metadata": {},
          "execution_count": 92
        }
      ]
    },
    {
      "cell_type": "code",
      "source": [
        "dict2[\"site\"] = \"in.gr\"\n",
        "dict2"
      ],
      "metadata": {
        "colab": {
          "base_uri": "https://localhost:8080/"
        },
        "id": "FwHLeR6xWmKE",
        "outputId": "6bfe4431-2c87-414e-c5c4-bd98e3153c7c"
      },
      "execution_count": 93,
      "outputs": [
        {
          "output_type": "execute_result",
          "data": {
            "text/plain": [
              "{'titlos': 'Τέμπη: Προφυλακιστέος ο επιθεωρητής μετά την μαραθώνια απολογία του',\n",
              " 'hmerominia': '31.03.2023',\n",
              " 'katigoria': 'Ελλάδα',\n",
              " 'url': 'https://www.in.gr/2023/03/31/greece/tempi-profylakisteos-o-epitheoritis-meta-tin-marathonia-tin-apologia-tou/ ',\n",
              " 'site': 'in.gr'}"
            ]
          },
          "metadata": {},
          "execution_count": 93
        }
      ]
    },
    {
      "cell_type": "code",
      "source": [
        "len(dedomena)"
      ],
      "metadata": {
        "colab": {
          "base_uri": "https://localhost:8080/"
        },
        "id": "upCaFT9jX5wJ",
        "outputId": "0a49a61d-eb07-4566-b0cc-865468ef5007"
      },
      "execution_count": 96,
      "outputs": [
        {
          "output_type": "execute_result",
          "data": {
            "text/plain": [
              "2"
            ]
          },
          "metadata": {},
          "execution_count": 96
        }
      ]
    },
    {
      "cell_type": "code",
      "source": [],
      "metadata": {
        "id": "eATm2LsYX_Ns"
      },
      "execution_count": null,
      "outputs": []
    }
  ]
}